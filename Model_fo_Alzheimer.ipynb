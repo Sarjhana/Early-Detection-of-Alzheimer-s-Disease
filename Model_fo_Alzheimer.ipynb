{
  "nbformat": 4,
  "nbformat_minor": 0,
  "metadata": {
    "colab": {
      "name": "Model fo Alzheimer",
      "provenance": [],
      "collapsed_sections": []
    },
    "kernelspec": {
      "name": "python3",
      "display_name": "Python 3"
    },
    "language_info": {
      "name": "python"
    },
    "accelerator": "TPU"
  },
  "cells": [
    {
      "cell_type": "code",
      "metadata": {
        "id": "gSktCF456gtK"
      },
      "source": [
        "import numpy as np\n",
        "import matplotlib.pyplot as plt\n",
        "import os \n",
        "\n",
        "from keras_preprocessing.image import ImageDataGenerator\n",
        "import tensorflow as tf\n",
        "from tensorflow.python.keras import Sequential\n",
        "from tensorflow.keras import layers, optimizers\n",
        "from tensorflow.keras.applications import ResNet50\n",
        "from tensorflow.keras.layers import *\n",
        "from tensorflow.keras.models import Model, load_model\n",
        "from tensorflow.keras.initializers import glorot_uniform\n",
        "from tensorflow.keras.utils import plot_model\n",
        "from tensorflow.keras.callbacks import ReduceLROnPlateau, EarlyStopping, ModelCheckpoint, LearningRateScheduler\n",
        "from IPython.display import display\n",
        "from tensorflow.keras import backend as K\n",
        "from sklearn.preprocessing import StandardScaler, normalize"
      ],
      "execution_count": null,
      "outputs": []
    },
    {
      "cell_type": "code",
      "metadata": {
        "id": "QUtiE5sd6gdd",
        "colab": {
          "base_uri": "https://localhost:8080/"
        },
        "outputId": "cfb0e227-2262-4ed0-f8a0-e45634622fe3"
      },
      "source": [
        "from google.colab import drive\n",
        "drive.mount('/content/drive')"
      ],
      "execution_count": null,
      "outputs": [
        {
          "output_type": "stream",
          "text": [
            "Mounted at /content/drive\n"
          ],
          "name": "stdout"
        }
      ]
    },
    {
      "cell_type": "markdown",
      "metadata": {
        "id": "kS4-62lcwX-p"
      },
      "source": [
        "### Coronal Model\n"
      ]
    },
    {
      "cell_type": "code",
      "metadata": {
        "id": "HDYtaWOaTaPm",
        "colab": {
          "base_uri": "https://localhost:8080/"
        },
        "outputId": "284308c8-1453-467f-9088-2a484e1caad7"
      },
      "source": [
        "%cd /content/drive/My Drive/coronal_model"
      ],
      "execution_count": null,
      "outputs": [
        {
          "output_type": "stream",
          "text": [
            "/content/drive/My Drive/coronal_model\n"
          ],
          "name": "stdout"
        }
      ]
    },
    {
      "cell_type": "code",
      "metadata": {
        "id": "YiiGndlFDqxN"
      },
      "source": [
        "files_train = 0\n",
        "\n",
        "cwd = os.getcwd()\n",
        "\n",
        "folder = '/content/drive/My Drive/coronal_model/coronal_train'\n",
        "\n",
        "for sub_folder in os.listdir(folder):\n",
        "    root, dirs, files = next(os.walk(os.path.join(folder,sub_folder)))\n",
        "    files_train += len(files)\n",
        "\n",
        "print(files_train)\n",
        "\n",
        "\n",
        "img_width, img_height = 256, 256\n",
        "train_data_dir = \"/content/drive/My Drive/coronal_model/coronal_train\"\n",
        "\n",
        "nb_train_samples = files_train\n",
        "\n",
        "batch_size = 32\n",
        "num_classes = 2"
      ],
      "execution_count": null,
      "outputs": []
    },
    {
      "cell_type": "code",
      "metadata": {
        "id": "Fi2X_ZRAJZua"
      },
      "source": [
        "datagen = ImageDataGenerator(rescale=1./255., validation_split = 0.10)\n",
        "\n",
        "\n",
        "train_generator = datagen.flow_from_directory(\n",
        "train_data_dir,\n",
        "shuffle = True,\n",
        "subset='training',\n",
        "target_size = (img_height, img_width),\n",
        "batch_size = batch_size,\n",
        "class_mode = \"categorical\")\n",
        "\n",
        "valid_generator = datagen.flow_from_directory(\n",
        "train_data_dir,\n",
        "shuffle = True,\n",
        "subset='validation',\n",
        "target_size = (img_height, img_width),\n",
        "batch_size = batch_size,\n",
        "class_mode = \"categorical\")"
      ],
      "execution_count": null,
      "outputs": []
    },
    {
      "cell_type": "code",
      "metadata": {
        "id": "xzDpG4D1tVsj"
      },
      "source": [
        "basemodel = ResNet50(weights = 'imagenet', include_top = False, input_tensor = Input(shape=(256, 256, 3)))"
      ],
      "execution_count": null,
      "outputs": []
    },
    {
      "cell_type": "code",
      "metadata": {
        "id": "TTMdWLidtoCD"
      },
      "source": [
        "for layer in basemodel.layers:\n",
        "  layers.trainable = False"
      ],
      "execution_count": null,
      "outputs": []
    },
    {
      "cell_type": "code",
      "metadata": {
        "id": "0NfKvY_luC2H"
      },
      "source": [
        "headmodel = basemodel.output\n",
        "headmodel = Flatten(name= 'flatten')(headmodel)\n",
        "\n",
        "headmodel = Dense(32, activation = 'relu')(headmodel)\n",
        "headmodel = Dropout(0.4)(headmodel)\n",
        "headmodel = Dense(2, activation = 'sigmoid')(headmodel)\n",
        "\n",
        "model_coronal = Model(inputs = basemodel.input, outputs = headmodel)"
      ],
      "execution_count": null,
      "outputs": []
    },
    {
      "cell_type": "code",
      "metadata": {
        "id": "OaA23_Q5Gpfh"
      },
      "source": [
        "model_coronal.compile(loss = 'categorical_crossentropy', \n",
        "                      optimizer=optimizers.SGD(lr=0.001, \n",
        "                                               momentum=0.9, \n",
        "                                               nesterov=True), \n",
        "                      metrics= [\"accuracy\"])"
      ],
      "execution_count": null,
      "outputs": []
    },
    {
      "cell_type": "code",
      "metadata": {
        "id": "ms1ORLC9trH6",
        "colab": {
          "base_uri": "https://localhost:8080/"
        },
        "outputId": "b3395a73-5ae9-47a2-90ed-dab7b8b02142"
      },
      "source": [
        "earlystopping = EarlyStopping(monitor='val_accuracy', \n",
        "                              mode='auto', verbose=1, \n",
        "                              patience=20,min_delta=0)\n",
        "\n",
        "checkpointer = ModelCheckpoint(filepath=\"coronal_weights.h5\", \n",
        "                               verbose=1, \n",
        "                               save_best_only=True, \n",
        "                               monitor='val_accuracy',\n",
        "                               mode='auto', \n",
        "                               save_weights_only=False, \n",
        "                               period=1)"
      ],
      "execution_count": null,
      "outputs": [
        {
          "output_type": "stream",
          "text": [
            "WARNING:tensorflow:`period` argument is deprecated. Please use `save_freq` to specify the frequency in number of batches seen.\n"
          ],
          "name": "stdout"
        }
      ]
    },
    {
      "cell_type": "code",
      "metadata": {
        "id": "EwzdhkqmtuRV"
      },
      "source": [
        "history = model_coronal.fit(train_generator, \n",
        "                    steps_per_epoch= train_generator.n // 32, epochs = 30, \n",
        "                    validation_data= valid_generator, \n",
        "                    validation_steps= valid_generator.n // 32, \n",
        "                    callbacks=[checkpointer, earlystopping])"
      ],
      "execution_count": null,
      "outputs": []
    },
    {
      "cell_type": "code",
      "metadata": {
        "id": "jUfadORCt0U5",
        "colab": {
          "base_uri": "https://localhost:8080/",
          "height": 295
        },
        "outputId": "6dde624a-81fa-447e-c7c9-f11a0e2b2b97"
      },
      "source": [
        "plt.plot(history.history['accuracy'])\n",
        "plt.plot(history.history['val_accuracy'])\n",
        "plt.title('model accuracy')\n",
        "plt.ylabel('acc')\n",
        "plt.xlabel('epoch')\n",
        "plt.legend(['train', 'test'], loc='best')\n",
        "plt.show()"
      ],
      "execution_count": null,
      "outputs": [
        {
          "output_type": "display_data",
          "data": {
            "image/png": "[encoded data removed]",
            "text/plain": [
              "<Figure size 432x288 with 1 Axes>"
            ]
          },
          "metadata": {
            "tags": [],
            "needs_background": "light"
          }
        }
      ]
    },
    {
      "cell_type": "code",
      "metadata": {
        "id": "STLu_CxSuOOh",
        "colab": {
          "base_uri": "https://localhost:8080/",
          "height": 295
        },
        "outputId": "c21263d3-ba1d-47ce-c25e-766c96c178dc"
      },
      "source": [
        "# Plotting Loss of model (Training & Validation)\n",
        "plt.plot(history.history['loss'])\n",
        "plt.plot(history.history['val_loss'])\n",
        "plt.title('model loss')\n",
        "plt.ylabel('loss')\n",
        "plt.xlabel('epoch')\n",
        "plt.legend(['train', 'test'], loc='best')\n",
        "plt.show()"
      ],
      "execution_count": null,
      "outputs": [
        {
          "output_type": "display_data",
          "data": {
            "image/png": "[encoded data removed]",
            "text/plain": [
              "<Figure size 432x288 with 1 Axes>"
            ]
          },
          "metadata": {
            "tags": [],
            "needs_background": "light"
          }
        }
      ]
    },
    {
      "cell_type": "markdown",
      "metadata": {
        "id": "65FTYLPUwdLO"
      },
      "source": [
        "### Axial Model"
      ]
    },
    {
      "cell_type": "code",
      "metadata": {
        "id": "-QmjLk5k66-k"
      },
      "source": [
        "%cd /content/drive/My Drive/axial_model"
      ],
      "execution_count": null,
      "outputs": []
    },
    {
      "cell_type": "code",
      "metadata": {
        "id": "SVrVOD9-2p_g"
      },
      "source": [
        "files_train = 0\n",
        "files_test = 0\n",
        "\n",
        "cwd = os.getcwd()\n",
        "\n",
        "folder = '/content/drive/My Drive/axial_model/axial_train'\n",
        "\n",
        "for sub_folder in os.listdir(folder):\n",
        "    root, dirs, files = next(os.walk(os.path.join(folder,sub_folder)))\n",
        "    files_train += len(files)\n",
        "\n",
        "img_width, img_height = 256, 256\n",
        "train_data_dir = \"/content/drive/My Drive/axial_model/axial_train\"\n",
        "\n",
        "nb_train_samples = files_train\n",
        "print(files_train)\n",
        "\n",
        "batch_size = 32\n",
        "num_classes = 2"
      ],
      "execution_count": null,
      "outputs": []
    },
    {
      "cell_type": "code",
      "metadata": {
        "id": "f-nzXruhC28x"
      },
      "source": [
        "datagen = ImageDataGenerator(rescale=1./255., \n",
        "                             shear_range=0.02, \n",
        "                             rotation_range=25,\n",
        "                             width_shift_range = 0.1, \n",
        "                             height_shift_range = 0.1,\n",
        "                             zoom_range = 0.1,\n",
        "                             brightness_range = [1.1, 1.5],\n",
        "                             horizontal_flip=True, \n",
        "                             validation_split = 0.35)\n",
        "\n",
        "train_generator = datagen.flow_from_directory(\n",
        "train_data_dir,\n",
        "shuffle = True,\n",
        "subset='training',\n",
        "target_size = (img_height, img_width),\n",
        "batch_size = batch_size,\n",
        "class_mode = \"categorical\")\n",
        "\n",
        "valid_generator = datagen.flow_from_directory(\n",
        "train_data_dir,\n",
        "shuffle = True,\n",
        "subset='validation',\n",
        "target_size = (img_height, img_width),\n",
        "batch_size = batch_size,\n",
        "class_mode = \"categorical\")"
      ],
      "execution_count": null,
      "outputs": []
    },
    {
      "cell_type": "code",
      "metadata": {
        "id": "w4nE1AO3BGiz"
      },
      "source": [
        "basemodel = ResNet50(weights = 'imagenet', include_top = False, input_tensor = Input(shape=(256, 256, 3)))"
      ],
      "execution_count": null,
      "outputs": []
    },
    {
      "cell_type": "code",
      "metadata": {
        "id": "MHgr8XbEBj6t"
      },
      "source": [
        "for layer in basemodel.layers:\n",
        "  layers.trainable = False"
      ],
      "execution_count": null,
      "outputs": []
    },
    {
      "cell_type": "code",
      "metadata": {
        "id": "K2A6QpR0Bke5"
      },
      "source": [
        "headmodel = basemodel.output\n",
        "headmodel = Flatten(name= 'flatten')(headmodel)\n",
        "\n",
        "\n",
        "headmodel = Dense(16, activation = \"relu\")(headmodel)\n",
        "headmodel = Dropout(0.6)(headmodel)\n",
        "\n",
        "#headmodel = Dense(256, activation = \"relu\")(headmodel)\n",
        "#headmodel = Dropout(0.3)(headmodel)\n",
        "headmodel = Dense(2, activation = 'sigmoid')(headmodel)\n",
        "\n",
        "model_axial = Model(inputs = basemodel.input, outputs = headmodel)"
      ],
      "execution_count": null,
      "outputs": []
    },
    {
      "cell_type": "code",
      "metadata": {
        "id": "nTCi_PzHJSPy"
      },
      "source": [
        "model_axial.compile(loss = 'categorical_crossentropy', optimizer=optimizers.SGD(lr=0.001, momentum=0.9, nesterov=True), metrics= [\"accuracy\"])"
      ],
      "execution_count": null,
      "outputs": []
    },
    {
      "cell_type": "code",
      "metadata": {
        "id": "J___RXrJBZYB"
      },
      "source": [
        "earlystopping = EarlyStopping(monitor='val_accuracy', \n",
        "                              mode='auto', \n",
        "                              verbose=1, \n",
        "                              patience=20,\n",
        "                              min_delta=0)"
      ],
      "execution_count": null,
      "outputs": []
    },
    {
      "cell_type": "code",
      "metadata": {
        "id": "V7DF7I7TB81V"
      },
      "source": [
        "checkpointer = ModelCheckpoint(filepath=\"axial_weights.h5\", \n",
        "                               verbose=1, save_best_only=True, \n",
        "                               monitor='val_accuracy',\n",
        "                               mode='auto', \n",
        "                               save_weights_only=False, \n",
        "                               period=1)"
      ],
      "execution_count": null,
      "outputs": []
    },
    {
      "cell_type": "code",
      "metadata": {
        "id": "KLJgIjFICla5"
      },
      "source": [
        "history = model_axial.fit(train_generator, \n",
        "                    steps_per_epoch= train_generator.n // 32, \n",
        "                    epochs = 10, \n",
        "                    validation_data= valid_generator, \n",
        "                    validation_steps= valid_generator.n // 32, \n",
        "                    callbacks=[checkpointer, earlystopping]\n",
        "                    )"
      ],
      "execution_count": null,
      "outputs": []
    },
    {
      "cell_type": "code",
      "metadata": {
        "id": "f85cHfhZYGQs"
      },
      "source": [
        "plt.plot(history.history['accuracy'])\n",
        "plt.plot(history.history['val_accuracy'])\n",
        "plt.title('model accuracy')\n",
        "plt.ylabel('acc')\n",
        "plt.xlabel('epoch')\n",
        "plt.legend(['train', 'test'], loc='best')\n",
        "plt.show()"
      ],
      "execution_count": null,
      "outputs": []
    },
    {
      "cell_type": "code",
      "metadata": {
        "id": "t17W-SXShfg1"
      },
      "source": [
        "# Plotting Loss of model (Training & Validation)\n",
        "plt.plot(history.history['loss'])\n",
        "plt.plot(history.history['val_loss'])\n",
        "plt.title('model loss')\n",
        "plt.ylabel('loss')\n",
        "plt.xlabel('epoch')\n",
        "plt.legend(['train', 'test'], loc='best')\n",
        "plt.show()"
      ],
      "execution_count": null,
      "outputs": []
    },
    {
      "cell_type": "markdown",
      "metadata": {
        "id": "FwGZozycG8sG"
      },
      "source": [
        "### Sagittal Model"
      ]
    },
    {
      "cell_type": "code",
      "metadata": {
        "id": "n3dzE0J-1jLv"
      },
      "source": [
        "%cd /content/drive/My Drive/sagittal_model"
      ],
      "execution_count": null,
      "outputs": []
    },
    {
      "cell_type": "code",
      "metadata": {
        "id": "56tD9po0G_cl"
      },
      "source": [
        "files_train = 0\n",
        "\n",
        "cwd = os.getcwd()\n",
        "\n",
        "folder = '/content/drive/My Drive/sagittal_model/sagittal_train'\n",
        "\n",
        "for sub_folder in os.listdir(folder):\n",
        "    root, dirs, files = next(os.walk(os.path.join(folder,sub_folder)))\n",
        "    files_train += len(files)\n",
        "\n",
        "print(files_train)\n",
        "\n",
        "\n",
        "img_width, img_height = 256, 256\n",
        "train_data_dir = \"/content/drive/My Drive/sagittal_model/sagittal_train\"\n",
        "nb_train_samples = files_train\n",
        "batch_size = 32\n",
        "num_classes = 2"
      ],
      "execution_count": null,
      "outputs": []
    },
    {
      "cell_type": "code",
      "metadata": {
        "id": "FPZJ5ZUQHKUD"
      },
      "source": [
        "datagen = ImageDataGenerator(rescale=1./255., validation_split = 0.20)\n",
        "\n",
        "train_generator = datagen.flow_from_directory(\n",
        "train_data_dir,\n",
        "shuffle = True,\n",
        "subset='training',\n",
        "target_size = (img_height, img_width),\n",
        "batch_size = batch_size,\n",
        "class_mode = \"categorical\")\n",
        "\n",
        "valid_generator = datagen.flow_from_directory(\n",
        "train_data_dir,\n",
        "shuffle = True,\n",
        "subset='validation',\n",
        "target_size = (img_height, img_width),\n",
        "batch_size = batch_size,\n",
        "class_mode = \"categorical\")"
      ],
      "execution_count": null,
      "outputs": []
    },
    {
      "cell_type": "code",
      "metadata": {
        "id": "eMJdz9ZYHQMj"
      },
      "source": [
        "basemodel = ResNet50(weights = 'imagenet', include_top = False, input_tensor = Input(shape=(256, 256, 3)))"
      ],
      "execution_count": null,
      "outputs": []
    },
    {
      "cell_type": "code",
      "metadata": {
        "id": "tjxnYjvUHTFT"
      },
      "source": [
        "for layer in basemodel.layers:\n",
        "  layers.trainable = False"
      ],
      "execution_count": null,
      "outputs": []
    },
    {
      "cell_type": "code",
      "metadata": {
        "id": "mhxrs-gTHW6n"
      },
      "source": [
        "headmodel = basemodel.output\n",
        "headmodel = Flatten(name= 'flatten')(headmodel)\n",
        "\n",
        "headmodel = Dense(32, activation = \"relu\")(headmodel)\n",
        "headmodel = Dropout(0.4)(headmodel)\n",
        "\n",
        "#headmodel = Dense(256, activation = \"relu\")(headmodel)\n",
        "#headmodel = Dropout(0.3)(headmodel)\n",
        "\n",
        "headmodel = Dense(2, activation = 'sigmoid')(headmodel)\n",
        "\n",
        "model_sagittal = Model(inputs = basemodel.input, outputs = headmodel)"
      ],
      "execution_count": null,
      "outputs": []
    },
    {
      "cell_type": "code",
      "metadata": {
        "id": "C7E6UESgHY3T"
      },
      "source": [
        "model_sagittal.compile(loss = 'categorical_crossentropy', optimizer=optimizers.SGD(lr=0.001, momentum=0.9, nesterov=True), metrics= [\"accuracy\"])"
      ],
      "execution_count": null,
      "outputs": []
    },
    {
      "cell_type": "code",
      "metadata": {
        "id": "BEUyeli7HZcA"
      },
      "source": [
        "earlystopping = EarlyStopping(monitor='val_accuracy', mode='auto', verbose=1, patience=20,min_delta=0)\n",
        "checkpointer = ModelCheckpoint(filepath=\"sagittal_weights.h5\", verbose=1, save_best_only=True, monitor='val_accuracy',mode='auto', save_weights_only=False, period=1)"
      ],
      "execution_count": null,
      "outputs": []
    },
    {
      "cell_type": "code",
      "metadata": {
        "id": "SFB8nsz7Hd0f"
      },
      "source": [
        "history = model_sagittal.fit(train_generator, \n",
        "                    steps_per_epoch= train_generator.n // 32, epochs = 30, \n",
        "                    validation_data= valid_generator, \n",
        "                    validation_steps= valid_generator.n // 32, \n",
        "                    callbacks=[checkpointer, earlystopping])"
      ],
      "execution_count": null,
      "outputs": []
    },
    {
      "cell_type": "code",
      "metadata": {
        "id": "HaiW_MN-HgYb"
      },
      "source": [
        "plt.plot(history.history['accuracy'])\n",
        "plt.plot(history.history['val_accuracy'])\n",
        "plt.title('model accuracy')\n",
        "plt.ylabel('acc')\n",
        "plt.xlabel('epoch')\n",
        "plt.legend(['train', 'test'], loc='best')\n",
        "plt.show()"
      ],
      "execution_count": null,
      "outputs": []
    },
    {
      "cell_type": "code",
      "metadata": {
        "id": "OywFYCJtHjBI"
      },
      "source": [
        "# Plotting Loss of model (Training & Validation)\n",
        "plt.plot(history.history['loss'])\n",
        "plt.plot(history.history['val_loss'])\n",
        "plt.title('model loss')\n",
        "plt.ylabel('loss')\n",
        "plt.xlabel('epoch')\n",
        "plt.legend(['train', 'test'], loc='best')\n",
        "plt.show()"
      ],
      "execution_count": null,
      "outputs": []
    }
  ]
}