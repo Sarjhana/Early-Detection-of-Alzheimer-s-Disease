{
  "nbformat": 4,
  "nbformat_minor": 0,
  "metadata": {
    "colab": {
      "name": "Ensemble Learning for Alzheimers",
      "provenance": []
    },
    "kernelspec": {
      "name": "python3",
      "display_name": "Python 3"
    },
    "language_info": {
      "name": "python"
    },
    "accelerator": "GPU"
  },
  "cells": [
    {
      "cell_type": "markdown",
      "metadata": {
        "id": "ptQZHTmdVuPU"
      },
      "source": [
        "# Loading the 3 Models"
      ]
    },
    {
      "cell_type": "code",
      "metadata": {
        "id": "VeDPM4mddS9p"
      },
      "source": [
        "import tensorflow as tf"
      ],
      "execution_count": null,
      "outputs": []
    },
    {
      "cell_type": "code",
      "metadata": {
        "colab": {
          "base_uri": "https://localhost:8080/"
        },
        "id": "yt4mZntMb-nn",
        "outputId": "01b88bbf-52de-4484-987d-10fba5371f8d"
      },
      "source": [
        "from google.colab import drive\n",
        "drive.mount('/content/drive')"
      ],
      "execution_count": null,
      "outputs": [
        {
          "output_type": "stream",
          "text": [
            "Mounted at /content/drive\n"
          ],
          "name": "stdout"
        }
      ]
    },
    {
      "cell_type": "code",
      "metadata": {
        "colab": {
          "base_uri": "https://localhost:8080/"
        },
        "id": "70x0e8j3UTGu",
        "outputId": "59e0253c-2c17-4f60-f195-50cd2e5bcffe"
      },
      "source": [
        "%cd /content/drive/My Drive/models"
      ],
      "execution_count": null,
      "outputs": [
        {
          "output_type": "stream",
          "text": [
            "/content/drive/My Drive/models\n"
          ],
          "name": "stdout"
        }
      ]
    },
    {
      "cell_type": "code",
      "metadata": {
        "id": "qD6nLe6jVzeq"
      },
      "source": [
        "axial_model = tf.keras.models.load_model('axial_weights.h5')\n",
        "coronal_model = tf.keras.models.load_model('coronal_weights.h5')\n",
        "sagittal_model = tf.keras.models.load_model('sagittal_weights.h5')"
      ],
      "execution_count": null,
      "outputs": []
    },
    {
      "cell_type": "markdown",
      "metadata": {
        "id": "m0nw-JmQV2-q"
      },
      "source": [
        "# Ensemble Learning"
      ]
    },
    {
      "cell_type": "code",
      "metadata": {
        "colab": {
          "base_uri": "https://localhost:8080/"
        },
        "id": "cH05MmWdV2k3",
        "outputId": "69d70be7-fbbf-4d79-9feb-bdf3031901c8"
      },
      "source": [
        "%cd /content/drive/My Drive/TestingAlt"
      ],
      "execution_count": null,
      "outputs": [
        {
          "output_type": "stream",
          "text": [
            "/content/drive/My Drive/TestingAlt\n"
          ],
          "name": "stdout"
        }
      ]
    },
    {
      "cell_type": "code",
      "metadata": {
        "id": "06KkvFcfVk8M"
      },
      "source": [
        "from PIL import Image\n",
        "import numpy as np\n",
        "from skimage import transform\n",
        "\n",
        "def load(filename):\n",
        "   np_image = Image.open(filename)\n",
        "   np_image = np.array(np_image).astype('float32')/255\n",
        "   np_image = transform.resize(np_image, (256, 256, 3))\n",
        "   np_image = np.expand_dims(np_image, axis=0)\n",
        "   return np_image"
      ],
      "execution_count": null,
      "outputs": []
    },
    {
      "cell_type": "markdown",
      "metadata": {
        "id": "VDEJ154FWAjt"
      },
      "source": [
        "## Patient 1"
      ]
    },
    {
      "cell_type": "code",
      "metadata": {
        "colab": {
          "base_uri": "https://localhost:8080/"
        },
        "id": "FvajmscBbZGI",
        "outputId": "ba7e4cba-0c70-422a-cd9e-3b2d96e5e730"
      },
      "source": [
        "%cd /content/drive/My Drive/TestingAlt/Patient3-NC"
      ],
      "execution_count": null,
      "outputs": [
        {
          "output_type": "stream",
          "text": [
            "/content/drive/My Drive/TestingAlt/Patient3-NC\n"
          ],
          "name": "stdout"
        }
      ]
    },
    {
      "cell_type": "code",
      "metadata": {
        "colab": {
          "base_uri": "https://localhost:8080/"
        },
        "id": "Gmy3FD5lbZOP",
        "outputId": "d5d4a383-6a93-42d6-fe1f-920d0fe64ebe"
      },
      "source": [
        "%ls"
      ],
      "execution_count": null,
      "outputs": [
        {
          "output_type": "stream",
          "text": [
            "axial3.tif  coronal3.tif  sagittal3.tif\n"
          ],
          "name": "stdout"
        }
      ]
    },
    {
      "cell_type": "code",
      "metadata": {
        "id": "Iz7rLInFbY91"
      },
      "source": [
        "image1 = load('/content/drive/My Drive/TestingAlt/Patient3-NC/axial3.tif')\n",
        "predict1 = axial_model.predict(image1)\n",
        "\n",
        "image2 = load('/content/drive/My Drive/TestingAlt/Patient3-NC/coronal3.tif')\n",
        "predict2 = coronal_model.predict(image2)\n",
        "\n",
        "image3 = load('/content/drive/My Drive/TestingAlt/Patient3-NC/sagittal3.tif')\n",
        "predict3 = sagittal_model.predict(image3)"
      ],
      "execution_count": null,
      "outputs": []
    },
    {
      "cell_type": "code",
      "metadata": {
        "colab": {
          "base_uri": "https://localhost:8080/"
        },
        "id": "VwSXdhWcBf0r",
        "outputId": "0ae2cfd0-351c-4943-8c23-3ce874d4d761"
      },
      "source": [
        "majority_vote = {\n",
        "    'ad': 0,\n",
        "    'nc': 0\n",
        "}\n",
        "\n",
        "result = []\n",
        "\n",
        "test_predict = []\n",
        "\n",
        "for i in predict1:\n",
        "  test_predict.append(str(np.argmax(i)))\n",
        "test_predict = np.asarray(test_predict)\n",
        "\n",
        "result.append(int(test_predict))\n",
        "\n",
        "test_predict = []\n",
        "for i in predict2:\n",
        "  test_predict.append(str(np.argmax(i)))\n",
        "test_predict = np.asarray(test_predict)\n",
        "\n",
        "result.append(int(test_predict))\n",
        "\n",
        "test_predict = []\n",
        "for i in predict3:\n",
        "  test_predict.append(str(np.argmax(i)))\n",
        "test_predict = np.asarray(test_predict)\n",
        "\n",
        "result.append(int(test_predict))\n",
        "\n",
        "for item in result:\n",
        "  if item == 0:\n",
        "    majority_vote['ad'] +=1\n",
        "  elif item == 1:\n",
        "    majority_vote['nc'] +=1\n",
        "\n",
        "print(majority_vote)"
      ],
      "execution_count": null,
      "outputs": [
        {
          "output_type": "stream",
          "text": [
            "{'ad': 1, 'nc': 2}\n"
          ],
          "name": "stdout"
        }
      ]
    },
    {
      "cell_type": "code",
      "metadata": {
        "id": "eljUK-07Bgsj"
      },
      "source": [
        "highest_vote = max(majority_vote.values())"
      ],
      "execution_count": null,
      "outputs": []
    },
    {
      "cell_type": "code",
      "metadata": {
        "colab": {
          "base_uri": "https://localhost:8080/"
        },
        "id": "4NvxTJbZBji6",
        "outputId": "d173eeec-5816-424d-b7a7-e87de4bc1e4b"
      },
      "source": [
        "result = [k for k, v in majority_vote.items() if v == highest_vote]\n",
        "result"
      ],
      "execution_count": null,
      "outputs": [
        {
          "output_type": "execute_result",
          "data": {
            "text/plain": [
              "['nc']"
            ]
          },
          "metadata": {
            "tags": []
          },
          "execution_count": 12
        }
      ]
    },
    {
      "cell_type": "markdown",
      "metadata": {
        "id": "2SFtA1mi7bJY"
      },
      "source": [
        "# Patient 2"
      ]
    },
    {
      "cell_type": "code",
      "metadata": {
        "colab": {
          "base_uri": "https://localhost:8080/"
        },
        "id": "dMbAy15T7a9_",
        "outputId": "61f4e9f6-6882-4035-a260-adb648bc542e"
      },
      "source": [
        "%cd /content/drive/My Drive/TestingAlt/Patient2-AD"
      ],
      "execution_count": null,
      "outputs": [
        {
          "output_type": "stream",
          "text": [
            "/content/drive/My Drive/TestingAlt/Patient2-AD\n"
          ],
          "name": "stdout"
        }
      ]
    },
    {
      "cell_type": "code",
      "metadata": {
        "colab": {
          "base_uri": "https://localhost:8080/"
        },
        "id": "GUW-pmmt7a7Q",
        "outputId": "1341f2ed-299b-47eb-9f4b-3fd90af13f97"
      },
      "source": [
        "%ls"
      ],
      "execution_count": null,
      "outputs": [
        {
          "output_type": "stream",
          "text": [
            "axial2.tif  coronal2.tif  sagittal2.tif\n"
          ],
          "name": "stdout"
        }
      ]
    },
    {
      "cell_type": "code",
      "metadata": {
        "id": "yAPPixpJ7a4U"
      },
      "source": [
        "image1 = load('/content/drive/My Drive/TestingAlt/Patient2-AD/axial2.tif')\n",
        "predict1 = axial_model.predict(image1)\n",
        "\n",
        "image2 = load('/content/drive/My Drive/TestingAlt/Patient2-AD/coronal2.tif')\n",
        "predict2 = coronal_model.predict(image2)\n",
        "\n",
        "image3 = load('/content/drive/My Drive/TestingAlt/Patient2-AD/sagittal2.tif')\n",
        "predict3 = sagittal_model.predict(image3)"
      ],
      "execution_count": null,
      "outputs": []
    },
    {
      "cell_type": "code",
      "metadata": {
        "colab": {
          "base_uri": "https://localhost:8080/"
        },
        "id": "-CMEFDtb9gJA",
        "outputId": "baef0c9a-6a47-4952-8e29-1524105af38e"
      },
      "source": [
        "majority_vote = {\n",
        "    'ad': 0,\n",
        "    'nc': 0\n",
        "}\n",
        "\n",
        "result = []\n",
        "\n",
        "test_predict = []\n",
        "\n",
        "for i in predict1:\n",
        "  test_predict.append(str(np.argmax(i)))\n",
        "test_predict = np.asarray(test_predict)\n",
        "\n",
        "result.append(int(test_predict))\n",
        "\n",
        "test_predict = []\n",
        "for i in predict2:\n",
        "  test_predict.append(str(np.argmax(i)))\n",
        "test_predict = np.asarray(test_predict)\n",
        "\n",
        "result.append(int(test_predict))\n",
        "\n",
        "test_predict = []\n",
        "for i in predict3:\n",
        "  test_predict.append(str(np.argmax(i)))\n",
        "test_predict = np.asarray(test_predict)\n",
        "\n",
        "result.append(int(test_predict))\n",
        "\n",
        "for item in result:\n",
        "  if item == 0:\n",
        "    majority_vote['ad'] +=1\n",
        "  elif item == 1:\n",
        "    majority_vote['nc'] +=1\n",
        "\n",
        "print(majority_vote)"
      ],
      "execution_count": null,
      "outputs": [
        {
          "output_type": "stream",
          "text": [
            "{'ad': 2, 'nc': 1}\n"
          ],
          "name": "stdout"
        }
      ]
    },
    {
      "cell_type": "code",
      "metadata": {
        "id": "lCCaoZGT-40o"
      },
      "source": [
        "highest_vote = max(majority_vote.values())"
      ],
      "execution_count": null,
      "outputs": []
    },
    {
      "cell_type": "code",
      "metadata": {
        "colab": {
          "base_uri": "https://localhost:8080/"
        },
        "id": "JJw8Bry-9fld",
        "outputId": "ec01c7cc-f782-4f1b-f391-8c03076ca9e7"
      },
      "source": [
        "result = [k for k, v in majority_vote.items() if v == highest_vote]\n",
        "result"
      ],
      "execution_count": null,
      "outputs": [
        {
          "output_type": "execute_result",
          "data": {
            "text/plain": [
              "['ad']"
            ]
          },
          "metadata": {
            "tags": []
          },
          "execution_count": 18
        }
      ]
    },
    {
      "cell_type": "code",
      "metadata": {
        "id": "2zyzoVK0qbLP"
      },
      "source": [
        ""
      ],
      "execution_count": null,
      "outputs": []
    }
  ]
}